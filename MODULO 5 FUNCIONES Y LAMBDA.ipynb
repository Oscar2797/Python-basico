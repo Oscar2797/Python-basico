{
 "cells": [
  {
   "cell_type": "code",
   "execution_count": 1,
   "id": "56f0f480-7ddf-48a7-aa82-7cccd6156f8a",
   "metadata": {},
   "outputs": [
    {
     "name": "stdout",
     "output_type": "stream",
     "text": [
      "hola\n"
     ]
    }
   ],
   "source": [
    "def saludo():\n",
    "    print(\"hola\")\n",
    "saludo()"
   ]
  },
  {
   "cell_type": "code",
   "execution_count": 4,
   "id": "2ee4f02e-21cb-4552-90dd-b8ab4b6029be",
   "metadata": {},
   "outputs": [
    {
     "name": "stdout",
     "output_type": "stream",
     "text": [
      "Hola juan\n"
     ]
    }
   ],
   "source": [
    "def saludo_nombre(nombre):\n",
    "    print(\"Hola \" + nombre)\n",
    "saludo_nombre(\"juan\")"
   ]
  },
  {
   "cell_type": "code",
   "execution_count": 6,
   "id": "f3982c29-a66f-4e05-9c2f-5ea6adb8cca5",
   "metadata": {},
   "outputs": [
    {
     "name": "stdout",
     "output_type": "stream",
     "text": [
      "12.5664\n"
     ]
    }
   ],
   "source": [
    "# área de un círculo\n",
    "def area_círculo(radio):\n",
    "    area= 3.1416*radio **2\n",
    "    return area\n",
    "mi_area= area_círculo(2)\n",
    "print(mi_area)"
   ]
  },
  {
   "cell_type": "code",
   "execution_count": 7,
   "id": "2c616713-ad66-4e7d-98c4-b9159b269107",
   "metadata": {},
   "outputs": [
    {
     "data": {
      "text/plain": [
       "8"
      ]
     },
     "execution_count": 7,
     "metadata": {},
     "output_type": "execute_result"
    }
   ],
   "source": [
    "def producto( x1, x2):\n",
    "    return x1*x2\n",
    "producto(2,4)"
   ]
  },
  {
   "cell_type": "code",
   "execution_count": 10,
   "id": "3c23d70b-f08c-4bf3-8c7b-f93a6e08cea3",
   "metadata": {},
   "outputs": [
    {
     "name": "stdout",
     "output_type": "stream",
     "text": [
      "6\n"
     ]
    }
   ],
   "source": [
    "def suma( a, b=3):\n",
    "    return a + b\n",
    "resultado= suma(2,4)\n",
    "print(resultado)"
   ]
  },
  {
   "cell_type": "code",
   "execution_count": 11,
   "id": "611e50c2-63a6-438e-9d3a-5d088e9f9d74",
   "metadata": {},
   "outputs": [
    {
     "name": "stdout",
     "output_type": "stream",
     "text": [
      "5\n"
     ]
    }
   ],
   "source": [
    "def suma( a, b=3):\n",
    "    return a + b\n",
    "resultado= suma(2)\n",
    "print(resultado)"
   ]
  },
  {
   "cell_type": "code",
   "execution_count": 12,
   "id": "72ca3734-c958-4e66-b091-a521451e1466",
   "metadata": {},
   "outputs": [
    {
     "name": "stdout",
     "output_type": "stream",
     "text": [
      "Mi mejor amigo es Pedro\n"
     ]
    }
   ],
   "source": [
    "def mi_funcion(*amigos):\n",
    "    print(\"Mi mejor amigo es\", amigos[2])\n",
    "mi_funcion(\"Juan\", \"Luis\", \"Pedro\", \"Óscar\")\n"
   ]
  },
  {
   "cell_type": "code",
   "execution_count": 20,
   "id": "8dafd913-5747-44ac-ba36-4e8002e87ccb",
   "metadata": {},
   "outputs": [
    {
     "name": "stdout",
     "output_type": "stream",
     "text": [
      " El chico más joven es Emil\n"
     ]
    }
   ],
   "source": [
    "def chicos(chico1, chico2, chico3):\n",
    "    print( \" El chico más joven es\",chico3)\n",
    "chicos(chico3= \"Emil\", chico1= \"Óscar\", chico2= \"Luis\")"
   ]
  },
  {
   "cell_type": "code",
   "execution_count": 24,
   "id": "70d513b5-0ce3-4988-a912-904e69b3fab2",
   "metadata": {},
   "outputs": [
    {
     "name": "stdout",
     "output_type": "stream",
     "text": [
      " El apellido es Reyes\n"
     ]
    }
   ],
   "source": [
    "def apellido(**chico):\n",
    "    print( \" El apellido es \" +chico[\"apellido\"])\n",
    "apellido(npila=\"Juan\", apellido= \"Reyes\", edad=26)"
   ]
  },
  {
   "cell_type": "code",
   "execution_count": 26,
   "id": "0f018b1a-3799-4c6d-aafe-7599153be6f4",
   "metadata": {},
   "outputs": [
    {
     "name": "stdout",
     "output_type": "stream",
     "text": [
      "manzana\n",
      "uva\n",
      "sandía\n"
     ]
    }
   ],
   "source": [
    "# listas en funciones\n",
    "def lista_comida( comida):\n",
    "    for x in comida: \n",
    "        print(x)\n",
    "frutas= [\"manzana\", \"uva\", \"sandía\"]\n",
    "lista_comida(frutas)"
   ]
  },
  {
   "cell_type": "code",
   "execution_count": 27,
   "id": "022e9d4c-9ee8-4c82-8665-709821b7ed85",
   "metadata": {},
   "outputs": [
    {
     "data": {
      "text/plain": [
       "[5, 10, 15, 20, 25, 30, 35, 40, 45, 50]"
      ]
     },
     "execution_count": 27,
     "metadata": {},
     "output_type": "execute_result"
    }
   ],
   "source": [
    "# tabla de multiplicar\n",
    "def tabla_de_multiplicar(numero):\n",
    "    resultados=[]\n",
    "    for i in range(1,11):\n",
    "        resultados.append(numero*i)\n",
    "    return resultados\n",
    "tabla_de_multiplicar(5)\n",
    "    "
   ]
  },
  {
   "cell_type": "code",
   "execution_count": 28,
   "id": "fe6303d4-5f43-4e04-b5a2-e4e5b6471e3c",
   "metadata": {},
   "outputs": [
    {
     "name": "stdout",
     "output_type": "stream",
     "text": [
      "[1, 2, 3, 4, 5, 6, 7, 8, 9, 10]\n",
      "[2, 4, 6, 8, 10, 12, 14, 16, 18, 20]\n",
      "[3, 6, 9, 12, 15, 18, 21, 24, 27, 30]\n",
      "[4, 8, 12, 16, 20, 24, 28, 32, 36, 40]\n",
      "[5, 10, 15, 20, 25, 30, 35, 40, 45, 50]\n",
      "[6, 12, 18, 24, 30, 36, 42, 48, 54, 60]\n",
      "[7, 14, 21, 28, 35, 42, 49, 56, 63, 70]\n",
      "[8, 16, 24, 32, 40, 48, 56, 64, 72, 80]\n",
      "[9, 18, 27, 36, 45, 54, 63, 72, 81, 90]\n",
      "[10, 20, 30, 40, 50, 60, 70, 80, 90, 100]\n"
     ]
    }
   ],
   "source": [
    "# tabla de multiplicar\n",
    "def tabla_de_multiplicar(numero):\n",
    "    resultados=[]\n",
    "    for i in range(1,11):\n",
    "        resultados.append(numero*i)\n",
    "    return resultados\n",
    "for n in range(1,11):\n",
    "    print(tabla_de_multiplicar(n))"
   ]
  },
  {
   "cell_type": "code",
   "execution_count": 32,
   "id": "a960896d-0d89-4f31-892a-2886241548ae",
   "metadata": {},
   "outputs": [
    {
     "data": {
      "text/plain": [
       "5"
      ]
     },
     "execution_count": 32,
     "metadata": {},
     "output_type": "execute_result"
    }
   ],
   "source": [
    "longitud=len(\"amigo\")\n",
    "longitud"
   ]
  },
  {
   "cell_type": "code",
   "execution_count": 37,
   "id": "c2881150-7c41-42d4-b68a-1ea607114473",
   "metadata": {},
   "outputs": [
    {
     "name": "stdout",
     "output_type": "stream",
     "text": [
      "False\n"
     ]
    }
   ],
   "source": [
    "def palindromo(cadena):# palindromo 1\n",
    "    izquierda= 0\n",
    "    derecha= len(cadena)-1\n",
    "    while derecha>= izquierda:\n",
    "        if not (cadena[izquierda]==cadena[derecha]):\n",
    "            return False\n",
    "        izquierda +=1\n",
    "        derecha -=1\n",
    "    return True\n",
    "print( palindromo(\"Rayar\"))"
   ]
  },
  {
   "cell_type": "code",
   "execution_count": 40,
   "id": "6be6dff1-7f7e-4349-adbe-4e5fbf8b3920",
   "metadata": {},
   "outputs": [
    {
     "name": "stdout",
     "output_type": "stream",
     "text": [
      "True\n"
     ]
    }
   ],
   "source": [
    "def palindromo2(cadena):# palíndromo que resuleve las mayúsculas\n",
    "    izquierda= 0\n",
    "    derecha= len(cadena)-1\n",
    "    while derecha>= izquierda:\n",
    "        if not (cadena[izquierda].lower()==cadena[derecha].lower()):\n",
    "            return False\n",
    "        izquierda +=1\n",
    "        derecha -=1\n",
    "    return True\n",
    "print( palindromo2(\"Rayar\"))"
   ]
  },
  {
   "cell_type": "code",
   "execution_count": 41,
   "id": "ddb2b6e9-03fa-4357-ab31-7b7c16de050c",
   "metadata": {},
   "outputs": [
    {
     "name": "stdout",
     "output_type": "stream",
     "text": [
      "4\n"
     ]
    }
   ],
   "source": [
    "# lambda para el cuadrado\n",
    "cuadrado=lambda x: x**2\n",
    "print(cuadrado(2))\n",
    "\n"
   ]
  },
  {
   "cell_type": "code",
   "execution_count": 42,
   "id": "f5ddde2f-587d-4789-8eb9-3938da92f9c0",
   "metadata": {},
   "outputs": [
    {
     "name": "stdout",
     "output_type": "stream",
     "text": [
      "4\n"
     ]
    }
   ],
   "source": [
    "# def para el cuadrado\n",
    "def cuadrado_de(x):\n",
    "    return x**2\n",
    "print(cuadrado(2))\n"
   ]
  },
  {
   "cell_type": "code",
   "execution_count": 43,
   "id": "ef7ce097-2745-442a-b8ee-495e965721e0",
   "metadata": {},
   "outputs": [
    {
     "name": "stdout",
     "output_type": "stream",
     "text": [
      "el doble de 15 es 30\n"
     ]
    }
   ],
   "source": [
    "def Calcula(n):\n",
    "    return lambda x:x*n\n",
    "\n",
    "resultado= Calcula(2)\n",
    "print( \"el doble de 15 es\", resultado(15))\n"
   ]
  },
  {
   "cell_type": "code",
   "execution_count": 47,
   "id": "d3bbe39c-960e-44aa-9b2e-0c06899dfd74",
   "metadata": {},
   "outputs": [
    {
     "name": "stdout",
     "output_type": "stream",
     "text": [
      "True\n"
     ]
    }
   ],
   "source": [
    "Inicia_con= lambda texto, x: True if x.startswith(texto) else False\n",
    "print( Inicia_con(\"P\", \"Python\"))"
   ]
  },
  {
   "cell_type": "code",
   "execution_count": null,
   "id": "b9e31897-aaa3-4a56-bb71-df0619736037",
   "metadata": {},
   "outputs": [],
   "source": []
  }
 ],
 "metadata": {
  "kernelspec": {
   "display_name": "Python 3 (ipykernel)",
   "language": "python",
   "name": "python3"
  },
  "language_info": {
   "codemirror_mode": {
    "name": "ipython",
    "version": 3
   },
   "file_extension": ".py",
   "mimetype": "text/x-python",
   "name": "python",
   "nbconvert_exporter": "python",
   "pygments_lexer": "ipython3",
   "version": "3.12.7"
  }
 },
 "nbformat": 4,
 "nbformat_minor": 5
}
