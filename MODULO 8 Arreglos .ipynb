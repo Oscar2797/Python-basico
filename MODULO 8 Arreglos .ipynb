{
 "cells": [
  {
   "cell_type": "code",
   "execution_count": 2,
   "id": "2ce2be3c-9409-48b5-b0de-67aee5066f10",
   "metadata": {},
   "outputs": [
    {
     "data": {
      "text/plain": [
       "array([1, 2, 3, 4, 5])"
      ]
     },
     "execution_count": 2,
     "metadata": {},
     "output_type": "execute_result"
    }
   ],
   "source": [
    "# CREACIÓN DE UN ARREGLO A PARTIR DE UNA LISTA\n",
    "\n",
    "import numpy as np\n",
    "\n",
    "lista1=[1,2,3,4,5]\n",
    "arreglo1= np.array(lista1)\n",
    "arreglo1"
   ]
  },
  {
   "cell_type": "code",
   "execution_count": 4,
   "id": "ff9183d9-2ee9-44f0-a27c-84d844a87e74",
   "metadata": {},
   "outputs": [
    {
     "data": {
      "text/plain": [
       "numpy.ndarray"
      ]
     },
     "execution_count": 4,
     "metadata": {},
     "output_type": "execute_result"
    }
   ],
   "source": [
    "type(arreglo1)"
   ]
  },
  {
   "cell_type": "code",
   "execution_count": 8,
   "id": "d70b7fa6-7bc0-45d2-b68d-8c0018ef9e92",
   "metadata": {},
   "outputs": [
    {
     "data": {
      "text/plain": [
       "array([[1, 2, 3],\n",
       "       [4, 5, 6],\n",
       "       [7, 8, 9]])"
      ]
     },
     "execution_count": 8,
     "metadata": {},
     "output_type": "execute_result"
    }
   ],
   "source": [
    "# CREACIÓN DE UN ARREGLO A PARTIR DE UNA LISTA DE LISTAS\n",
    "\n",
    "lista2=[[1,2,3],[4,5,6],[7,8,9]]\n",
    "arreglo2= np.array(lista2)\n",
    "arreglo2"
   ]
  },
  {
   "cell_type": "code",
   "execution_count": 10,
   "id": "c1a5ce1e-48a5-4223-9cb9-97bbb5bb3812",
   "metadata": {},
   "outputs": [
    {
     "data": {
      "text/plain": [
       "['a', True, 1]"
      ]
     },
     "execution_count": 10,
     "metadata": {},
     "output_type": "execute_result"
    }
   ],
   "source": [
    "# LAS LISTAS PUEDEN CONTENER DIVERSOS TIPOS DE DATOS\n",
    "\n",
    "lista=[\"a\", True, 1]\n",
    "lista"
   ]
  },
  {
   "cell_type": "code",
   "execution_count": 12,
   "id": "d50ef61a-0dad-4a5a-a155-9c4f95617ad2",
   "metadata": {},
   "outputs": [
    {
     "data": {
      "text/plain": [
       "array(['a', 'True', '1'], dtype='<U11')"
      ]
     },
     "execution_count": 12,
     "metadata": {},
     "output_type": "execute_result"
    }
   ],
   "source": [
    "# LOS ARREGLOS SÓLO PUEDEN TENER UN MISMO TIPO DE DATOS\n",
    "# USAN MENOS ESPACIO EN MEMORIA\n",
    "\n",
    "arreglo= np.array(lista)\n",
    "arreglo"
   ]
  },
  {
   "cell_type": "code",
   "execution_count": 30,
   "id": "2be0c32d-d934-46ae-bb29-21ade048ab24",
   "metadata": {},
   "outputs": [
    {
     "data": {
      "text/plain": [
       "array([[1, 2],\n",
       "       [5, 7]])"
      ]
     },
     "execution_count": 30,
     "metadata": {},
     "output_type": "execute_result"
    }
   ],
   "source": [
    "# CREACIÓN DE ARREGLOS CON CEROS\n",
    "\n",
    "arreglo4= np.zeros((5,4))\n",
    "arreglo4"
   ]
  },
  {
   "cell_type": "code",
   "execution_count": 34,
   "id": "022ab94e-bf81-47f9-a40e-728aceea55aa",
   "metadata": {},
   "outputs": [
    {
     "data": {
      "text/plain": [
       "(5, 4)"
      ]
     },
     "execution_count": 34,
     "metadata": {},
     "output_type": "execute_result"
    }
   ],
   "source": [
    "arreglo4.shape"
   ]
  },
  {
   "cell_type": "code",
   "execution_count": 16,
   "id": "be57c15f-e477-4f25-a07b-deded5cedc3c",
   "metadata": {},
   "outputs": [
    {
     "data": {
      "text/plain": [
       "array([[0.92466471, 0.91693596],\n",
       "       [0.57735873, 0.95193174],\n",
       "       [0.85162572, 0.73223595]])"
      ]
     },
     "execution_count": 16,
     "metadata": {},
     "output_type": "execute_result"
    }
   ],
   "source": [
    "# CREACIÓN DE UN ARREGLO CON NÚMEROS ALEATORIOS UNIFORMES ENTRE 0 Y 1\n",
    "\n",
    "np.random.random((3,2))"
   ]
  },
  {
   "cell_type": "code",
   "execution_count": 20,
   "id": "0f37aa69-0e9c-443f-9a81-4b1cb7b18b7a",
   "metadata": {},
   "outputs": [
    {
     "data": {
      "text/plain": [
       "array([-2, -1,  0,  1,  2,  3,  4,  5,  6])"
      ]
     },
     "execution_count": 20,
     "metadata": {},
     "output_type": "execute_result"
    }
   ],
   "source": [
    "# CREACIÓN DE ARREGLOS EN UN RANGO\n",
    "\n",
    "np.arange(-2,7)"
   ]
  },
  {
   "cell_type": "code",
   "execution_count": 22,
   "id": "da5ccdb0-d6eb-4570-800d-d2fe16abb5b2",
   "metadata": {},
   "outputs": [
    {
     "data": {
      "text/plain": [
       "array([0, 1, 2, 3, 4])"
      ]
     },
     "execution_count": 22,
     "metadata": {},
     "output_type": "execute_result"
    }
   ],
   "source": [
    "np.arange(5)"
   ]
  },
  {
   "cell_type": "code",
   "execution_count": 26,
   "id": "1d806857-e8fd-44e6-830a-4e4e4c7c9452",
   "metadata": {},
   "outputs": [
    {
     "data": {
      "text/plain": [
       "array([[[1, 2],\n",
       "        [5, 7]],\n",
       "\n",
       "       [[8, 9],\n",
       "        [5, 7]],\n",
       "\n",
       "       [[1, 2],\n",
       "        [5, 7]]])"
      ]
     },
     "execution_count": 26,
     "metadata": {},
     "output_type": "execute_result"
    }
   ],
   "source": [
    "# ARREGLO MULTIDIMENSIONAL\n",
    "\n",
    "arreglo1= np.array([[1,2],[5,7]])\n",
    "arreglo2= np.array([[8,9],[5,7]])\n",
    "arreglo3= np.array([[1,2],[5,7]])\n",
    "\n",
    "arreglo_3D=np.array([arreglo1,arreglo2,arreglo3])\n",
    "arreglo_3D"
   ]
  },
  {
   "cell_type": "code",
   "execution_count": 36,
   "id": "7641070a-1976-4fc0-a4de-56c5c3fe5922",
   "metadata": {},
   "outputs": [
    {
     "data": {
      "text/plain": [
       "array([[1, 2, 3],\n",
       "       [4, 5, 6],\n",
       "       [7, 8, 9]])"
      ]
     },
     "execution_count": 36,
     "metadata": {},
     "output_type": "execute_result"
    }
   ],
   "source": [
    "# CONVERSIÓN DE ARREGLO MULTIDIMENSIONAL A UNIDIMENSIONAL\n",
    "\n",
    "lista2=[[1,2,3],\n",
    "        [4,5,6],\n",
    "        [7,8,9]]\n",
    "arreglo2= np.array(lista2)\n",
    "arreglo2"
   ]
  },
  {
   "cell_type": "code",
   "execution_count": 38,
   "id": "3c35ee88-1b54-4d5e-bc41-14d68a82d56d",
   "metadata": {},
   "outputs": [
    {
     "data": {
      "text/plain": [
       "array([1, 2, 3, 4, 5, 6, 7, 8, 9])"
      ]
     },
     "execution_count": 38,
     "metadata": {},
     "output_type": "execute_result"
    }
   ],
   "source": [
    "arreglo2.flatten()"
   ]
  },
  {
   "cell_type": "code",
   "execution_count": 40,
   "id": "a7993c1e-ddb8-4d52-9286-11209431c2f7",
   "metadata": {},
   "outputs": [
    {
     "data": {
      "text/plain": [
       "array([[1, 2, 3],\n",
       "       [4, 5, 6]])"
      ]
     },
     "execution_count": 40,
     "metadata": {},
     "output_type": "execute_result"
    }
   ],
   "source": [
    "# CAMBIO DE DIMENSIÓN DE UN ARREGLO\n",
    "\n",
    "arreglo=np.array([[1,2],\n",
    "                  [3,4],\n",
    "                  [5,6]])\n",
    "arreglo.reshape(2,3)"
   ]
  },
  {
   "cell_type": "code",
   "execution_count": 42,
   "id": "c69a2816-0951-4d1f-9bf3-240f4cd6faa2",
   "metadata": {},
   "outputs": [
    {
     "data": {
      "text/plain": [
       "dtype('bool')"
      ]
     },
     "execution_count": 42,
     "metadata": {},
     "output_type": "execute_result"
    }
   ],
   "source": [
    "# CAMBIO DE TIPO DE ARREGLO\n",
    "\n",
    "arreglo_booleano=np.array([[True,False]],dtype=np.bool_)\n",
    "arreglo_booleano.dtype"
   ]
  },
  {
   "cell_type": "code",
   "execution_count": 46,
   "id": "051879fb-1404-41fd-bce8-b7740eb6e685",
   "metadata": {},
   "outputs": [
    {
     "data": {
      "text/plain": [
       "dtype('int32')"
      ]
     },
     "execution_count": 46,
     "metadata": {},
     "output_type": "execute_result"
    }
   ],
   "source": [
    "arreglo= arreglo_booleano.astype(np.int32)\n",
    "arreglo.dtype"
   ]
  },
  {
   "cell_type": "code",
   "execution_count": 59,
   "id": "b760505e-7f36-4fc4-b304-955ba15269bf",
   "metadata": {},
   "outputs": [
    {
     "data": {
      "text/plain": [
       "array([[0, 1, 1],\n",
       "       [1, 0, 1],\n",
       "       [1, 3, 2],\n",
       "       [2, 2, 0]])"
      ]
     },
     "execution_count": 59,
     "metadata": {},
     "output_type": "execute_result"
    }
   ],
   "source": [
    "# EJERCICIO DE ACCIDENTES\n",
    "\n",
    "Lista4=[[0,1,1],[1,0,1],[1,3,2],[2,2,0]]\n",
    "accidentes= np.array(Lista4)\n",
    "accidentes"
   ]
  },
  {
   "cell_type": "code",
   "execution_count": 61,
   "id": "37a9efad-11ce-4119-95f1-9e42efb6c09c",
   "metadata": {},
   "outputs": [
    {
     "data": {
      "text/plain": [
       "14"
      ]
     },
     "execution_count": 61,
     "metadata": {},
     "output_type": "execute_result"
    }
   ],
   "source": [
    "# SUMA DE ACCIDENTES\n",
    "\n",
    "accidentes.sum()"
   ]
  },
  {
   "cell_type": "code",
   "execution_count": 65,
   "id": "b2cac12a-aacb-4faa-8199-cab5a65657a3",
   "metadata": {},
   "outputs": [
    {
     "data": {
      "text/plain": [
       "array([4, 6, 4])"
      ]
     },
     "execution_count": 65,
     "metadata": {},
     "output_type": "execute_result"
    }
   ],
   "source": [
    "# ACCIDENTES POR AREA\n",
    "\n",
    "accid_areas=accidentes.sum(axis=0)\n",
    "accid_areas"
   ]
  },
  {
   "cell_type": "code",
   "execution_count": 69,
   "id": "c8a9d2fc-d501-4778-8a82-96431d7a5c78",
   "metadata": {},
   "outputs": [
    {
     "name": "stdout",
     "output_type": "stream",
     "text": [
      "Los accidente del area 1 son:  4\n",
      "Los accidente del area 2 son:  6\n",
      "Los accidente del area 2 son:  4\n"
     ]
    }
   ],
   "source": [
    "print(\"Los accidente del area 1 son: \",accid_areas[0])\n",
    "print(\"Los accidente del area 2 son: \",accid_areas[1])\n",
    "print(\"Los accidente del area 2 son: \",accid_areas[2])"
   ]
  },
  {
   "cell_type": "code",
   "execution_count": 71,
   "id": "4b6883bb-ad48-435b-8df3-071305cdaaa4",
   "metadata": {},
   "outputs": [
    {
     "data": {
      "text/plain": [
       "array([2, 2, 6, 4])"
      ]
     },
     "execution_count": 71,
     "metadata": {},
     "output_type": "execute_result"
    }
   ],
   "source": [
    "# ACCIDENTES POR AREA\n",
    "\n",
    "accid_anios=accidentes.sum(axis=1)\n",
    "accid_anios"
   ]
  },
  {
   "cell_type": "code",
   "execution_count": 73,
   "id": "d924e22b-da56-4c1a-8dd6-f8a72f8c1b8d",
   "metadata": {},
   "outputs": [
    {
     "data": {
      "text/plain": [
       "array([[2],\n",
       "       [2],\n",
       "       [6],\n",
       "       [4]])"
      ]
     },
     "execution_count": 73,
     "metadata": {},
     "output_type": "execute_result"
    }
   ],
   "source": [
    "# CONSERVACIÓN DE DIMENSIONES\n",
    "\n",
    "accid_areas=accidentes.sum(axis=1, keepdims=True)\n",
    "accid_areas"
   ]
  },
  {
   "cell_type": "code",
   "execution_count": 75,
   "id": "3ce5c780-ddbc-4a7c-8a51-04207b751d1b",
   "metadata": {},
   "outputs": [
    {
     "name": "stdout",
     "output_type": "stream",
     "text": [
      " El máximo de accidentes es 3\n",
      " El mínimo de accidentes es 0\n"
     ]
    }
   ],
   "source": [
    "# Máximo y Mínimo de accidentes\n",
    "\n",
    "Máximo= accidentes.max()\n",
    "Mínimo= accidentes.min()\n",
    "\n",
    "print( f\" El máximo de accidentes es {Máximo}\")\n",
    "print( f\" El mínimo de accidentes es {Mínimo}\")\n"
   ]
  },
  {
   "cell_type": "code",
   "execution_count": 79,
   "id": "4d686760-ffbe-4478-a42d-d60c0e646b1b",
   "metadata": {},
   "outputs": [
    {
     "data": {
      "text/plain": [
       "1.1666666666666667"
      ]
     },
     "execution_count": 79,
     "metadata": {},
     "output_type": "execute_result"
    }
   ],
   "source": [
    "# Promedio\n",
    "\n",
    "Promedio= accidentes.mean()\n",
    "Promedio"
   ]
  },
  {
   "cell_type": "code",
   "execution_count": 81,
   "id": "35e20811-185c-4da4-8f6c-783cb7ecc430",
   "metadata": {},
   "outputs": [
    {
     "name": "stdout",
     "output_type": "stream",
     "text": [
      "2\n",
      "3\n",
      "1\n"
     ]
    }
   ],
   "source": [
    "# SUMA DE ARREGLO MÁS 3 EN CADA DATO\n",
    "\n",
    "arreglo= np.array([[1,2,3],\n",
    "                   [4,5,6]])\n",
    "dimensiones= arreglo.shape\n",
    "\n",
    "print(dimensiones[0]) #Renglones\n",
    "print(dimensiones[1]) # Columnas\n",
    "print( arreglo[0][0])"
   ]
  },
  {
   "cell_type": "code",
   "execution_count": 87,
   "id": "d0c2e0e2-d5ee-4981-8dae-15cb6752ed5c",
   "metadata": {},
   "outputs": [
    {
     "name": "stdout",
     "output_type": "stream",
     "text": [
      "[[4. 5. 6.]\n",
      " [7. 8. 9.]]\n",
      "Tiempo total de ejeución (segs.) 0.0009999275207519531\n"
     ]
    }
   ],
   "source": [
    "# HACERLO CON PYTHON\n",
    "\n",
    "import time\n",
    "inicio= time.time()\n",
    "\n",
    "arreglo_final=np.zeros((2,3))\n",
    "\n",
    "for renglon in range(dimensiones[0]):\n",
    "    for columna in range(dimensiones[1]):\n",
    "        arreglo_final[renglon][columna]=arreglo[renglon][columna]+3\n",
    "\n",
    "print(arreglo_final)\n",
    "fin=time.time()\n",
    "print(\"Tiempo total de ejeución (segs.)\", fin-inicio)"
   ]
  },
  {
   "cell_type": "code",
   "execution_count": 93,
   "id": "f96086ae-32f5-42a1-afb3-e54a4e87a5e1",
   "metadata": {},
   "outputs": [
    {
     "name": "stdout",
     "output_type": "stream",
     "text": [
      "[[4 5 6]\n",
      " [7 8 9]]\n",
      " tiempo total de ejecución (segs.) 0.0009982585906982422\n"
     ]
    }
   ],
   "source": [
    "# HACERLO CON OPERACIONES VECTORIZADAS\n",
    "\n",
    "import time\n",
    "inicio= time.time()\n",
    "arreglo_final= arreglo+3\n",
    "print(arreglo_final)\n",
    "fin=time.time()\n",
    "print(\" tiempo total de ejecución (segs.)\", fin-inicio)"
   ]
  },
  {
   "cell_type": "code",
   "execution_count": 95,
   "id": "023dd0bb-53e4-48f4-95ea-0854619f9ef9",
   "metadata": {},
   "outputs": [
    {
     "data": {
      "text/plain": [
       "array([[ 3,  6,  9],\n",
       "       [12, 15, 18]])"
      ]
     },
     "execution_count": 95,
     "metadata": {},
     "output_type": "execute_result"
    }
   ],
   "source": [
    "# BROADCASTING\n",
    "# MULTIPLICACIÓN CON BROADCASTING\n",
    "\n",
    "arreglo= np.array([[1,2,3],\n",
    "                   [4,5,6]])\n",
    "arreglo_prod= arreglo*3\n",
    "arreglo_prod"
   ]
  },
  {
   "cell_type": "code",
   "execution_count": 97,
   "id": "c17a0b52-2f49-4124-968e-da98d119a986",
   "metadata": {},
   "outputs": [
    {
     "data": {
      "text/plain": [
       "array([[ 8, 10, 12],\n",
       "       [14, 16, 18]])"
      ]
     },
     "execution_count": 97,
     "metadata": {},
     "output_type": "execute_result"
    }
   ],
   "source": [
    "# ADICIÓN DE 2 ARREGLOS\n",
    "\n",
    "arreglo1= np.array([[1,2,3],\n",
    "                   [4,5,6]])\n",
    "\n",
    "arreglo2= np.array([[7,8,9],\n",
    "                   [10,11,12]])\n",
    "\n",
    "arreglo3= arreglo1+ arreglo2\n",
    "\n",
    "arreglo3"
   ]
  },
  {
   "cell_type": "code",
   "execution_count": 99,
   "id": "5398a44a-2080-4d67-88df-78a03e9cda53",
   "metadata": {},
   "outputs": [
    {
     "data": {
      "text/plain": [
       "array([[False, False,  True],\n",
       "       [ True,  True,  True]])"
      ]
     },
     "execution_count": 99,
     "metadata": {},
     "output_type": "execute_result"
    }
   ],
   "source": [
    "# EVALUACIÓN DE CONDICIONES\n",
    "\n",
    "arreglo1= np.array([[1,2,3],\n",
    "                   [4,5,6]])\n",
    "\n",
    "arreglo1>2"
   ]
  },
  {
   "cell_type": "code",
   "execution_count": 107,
   "id": "7c413703-6d10-42bd-947e-d090ddf498f7",
   "metadata": {},
   "outputs": [
    {
     "data": {
      "text/plain": [
       "array([False,  True,  True])"
      ]
     },
     "execution_count": 107,
     "metadata": {},
     "output_type": "execute_result"
    }
   ],
   "source": [
    "# VECTORIZAR LEN\n",
    "\n",
    "\n",
    "arreglo= np.array([\"numpy\", \"manejo\" , \"vectorización\"])\n",
    "\n",
    "len_vectorizada=np.vectorize(len)\n",
    "len_vectorizada(arreglo)>5"
   ]
  },
  {
   "cell_type": "code",
   "execution_count": 109,
   "id": "1d87032a-6817-4b8b-9467-9692e614b183",
   "metadata": {},
   "outputs": [
    {
     "data": {
      "text/plain": [
       "array([[0, 1, 2, 3, 4],\n",
       "       [5, 6, 7, 8, 9]])"
      ]
     },
     "execution_count": 109,
     "metadata": {},
     "output_type": "execute_result"
    }
   ],
   "source": [
    "# BROADCASTING DE RENGLONES\n",
    "\n",
    "arreglo= np.arange(10).reshape((2,5))\n",
    "arreglo"
   ]
  },
  {
   "cell_type": "code",
   "execution_count": 113,
   "id": "da800842-5dc7-4ecc-aefa-904e03887913",
   "metadata": {},
   "outputs": [
    {
     "data": {
      "text/plain": [
       "array([[ 0,  2,  4,  6,  8],\n",
       "       [ 5,  7,  9, 11, 13]])"
      ]
     },
     "execution_count": 113,
     "metadata": {},
     "output_type": "execute_result"
    }
   ],
   "source": [
    "arreglo+ np.array([0,1,2,3,4])"
   ]
  },
  {
   "cell_type": "code",
   "execution_count": 115,
   "id": "8b7f99b1-e191-498d-960d-5f423570736d",
   "metadata": {},
   "outputs": [
    {
     "data": {
      "text/plain": [
       "array([[ 0,  1,  2,  3,  4],\n",
       "       [ 6,  7,  8,  9, 10]])"
      ]
     },
     "execution_count": 115,
     "metadata": {},
     "output_type": "execute_result"
    }
   ],
   "source": [
    "# BROADCASTING EN COLUMNAS\n",
    "\n",
    "arreglo= np.arange(10).reshape((2,5))\n",
    "arreglo+np.array([0,1]).reshape((2,1))"
   ]
  },
  {
   "cell_type": "code",
   "execution_count": 117,
   "id": "78616474-2a17-420e-a865-d547e7ef165d",
   "metadata": {},
   "outputs": [
    {
     "data": {
      "text/plain": [
       "array([[4.3, 4.2, 4.1],\n",
       "       [2.3, 2.2, 2.1],\n",
       "       [1.3, 1.2, 1.1]])"
      ]
     },
     "execution_count": 117,
     "metadata": {},
     "output_type": "execute_result"
    }
   ],
   "source": [
    "# VOLTEO A UN ARREGLO\n",
    "\n",
    "arreglo= np.array([[1.1,1.2,1.3],\n",
    "                   [2.1,2.2,2.3],\n",
    "                   [4.1,4.2,4.3]])\n",
    "np.flip(arreglo)"
   ]
  },
  {
   "cell_type": "code",
   "execution_count": 119,
   "id": "eb51b0b2-4cac-4ce4-82fe-769503e1b6ea",
   "metadata": {},
   "outputs": [
    {
     "data": {
      "text/plain": [
       "array([[1.1, 2.1, 4.1],\n",
       "       [1.2, 2.2, 4.2],\n",
       "       [1.3, 2.3, 4.3]])"
      ]
     },
     "execution_count": 119,
     "metadata": {},
     "output_type": "execute_result"
    }
   ],
   "source": [
    "# TRANSPOSICIÓN DE UN ARREGLO \n",
    "\n",
    "arreglo= np.array([[1.1,1.2,1.3],\n",
    "                   [2.1,2.2,2.3],\n",
    "                   [4.1,4.2,4.3]])\n",
    "np.transpose(arreglo)"
   ]
  },
  {
   "cell_type": "code",
   "execution_count": 129,
   "id": "120d95bd-4e40-4e25-b676-970e5287f7e5",
   "metadata": {},
   "outputs": [
    {
     "data": {
      "text/plain": [
       "array([[ 5, 10],\n",
       "       [30, 40]])"
      ]
     },
     "execution_count": 129,
     "metadata": {},
     "output_type": "execute_result"
    }
   ],
   "source": [
    "# MULTIPLICACIÓN\n",
    "\n",
    "np.array([[1,2],[3,4]])* np.array([[5],[10]])"
   ]
  },
  {
   "cell_type": "code",
   "execution_count": 131,
   "id": "b1f921f1-5947-47d4-941e-6747b2bdbb5e",
   "metadata": {},
   "outputs": [
    {
     "data": {
      "text/plain": [
       "array([[-4, -3],\n",
       "       [-7, -6]])"
      ]
     },
     "execution_count": 131,
     "metadata": {},
     "output_type": "execute_result"
    }
   ],
   "source": [
    "# RESTA\n",
    "\n",
    "np.array([[1,2],[3,4]])- np.array([[5],[10]])"
   ]
  },
  {
   "cell_type": "code",
   "execution_count": 135,
   "id": "7f1c2de7-9850-4cad-b65f-d8bfd7079512",
   "metadata": {},
   "outputs": [
    {
     "data": {
      "text/plain": [
       "array([0, 1, 2, 3, 4, 5, 6, 7, 8, 9])"
      ]
     },
     "execution_count": 135,
     "metadata": {},
     "output_type": "execute_result"
    }
   ],
   "source": [
    "# INDEXACIÓN DE UN SÓLO ELEMENTO\n",
    "\n",
    "x=np.arange(10)\n",
    "x"
   ]
  },
  {
   "cell_type": "code",
   "execution_count": 141,
   "id": "0e2088a6-90d6-414d-a200-3b2e78060977",
   "metadata": {},
   "outputs": [
    {
     "data": {
      "text/plain": [
       "2"
      ]
     },
     "execution_count": 141,
     "metadata": {},
     "output_type": "execute_result"
    }
   ],
   "source": [
    "# EXTRACCIÓN DE ELEMENTOS DE FORMA ASCENDENTE\n",
    "\n",
    "x[2]"
   ]
  },
  {
   "cell_type": "code",
   "execution_count": 143,
   "id": "975566de-15c7-4ea5-8ed2-6f89ebf446b8",
   "metadata": {},
   "outputs": [
    {
     "data": {
      "text/plain": [
       "8"
      ]
     },
     "execution_count": 143,
     "metadata": {},
     "output_type": "execute_result"
    }
   ],
   "source": [
    "# EXTRACCIÓN DE ELEMENTOS DE FORMA DESCENDENTE\n",
    "\n",
    "x[-2]"
   ]
  },
  {
   "cell_type": "code",
   "execution_count": 145,
   "id": "0fb73335-da57-4bb8-9698-a147333a00de",
   "metadata": {},
   "outputs": [
    {
     "data": {
      "text/plain": [
       "array([[0, 1, 2, 3, 4],\n",
       "       [5, 6, 7, 8, 9]])"
      ]
     },
     "execution_count": 145,
     "metadata": {},
     "output_type": "execute_result"
    }
   ],
   "source": [
    "# CONVERSIÓN DE ELEMENTO EN FORMA BIDIMENSIONAL\n",
    "\n",
    "x.shape=(2,5)\n",
    "x"
   ]
  },
  {
   "cell_type": "code",
   "execution_count": 147,
   "id": "294e2453-8eea-4c79-b282-f7ad14bf0f25",
   "metadata": {},
   "outputs": [
    {
     "data": {
      "text/plain": [
       "8"
      ]
     },
     "execution_count": 147,
     "metadata": {},
     "output_type": "execute_result"
    }
   ],
   "source": [
    "# EXTRACCIÓN DE ELEMENTO CON ÍNDICE 1 EN RENGLÓ E ÍNDICE 3 EN COLUMNA\n",
    "\n",
    "x[1,3]"
   ]
  },
  {
   "cell_type": "code",
   "execution_count": 149,
   "id": "ac1a5376-3841-4d61-8747-eece93bfd68e",
   "metadata": {},
   "outputs": [
    {
     "data": {
      "text/plain": [
       "8"
      ]
     },
     "execution_count": 149,
     "metadata": {},
     "output_type": "execute_result"
    }
   ],
   "source": [
    "# ALTERNATIVA PARA EXTRACCIÓN DE ELEMENTO CON ÍNDICE 1 EN RENGLÓN E ÍNDICE 3 EN COLUMNA\n",
    "\n",
    "x[1][3]"
   ]
  },
  {
   "cell_type": "code",
   "execution_count": 151,
   "id": "1f2cc39c-2f00-414a-91df-ac3fe798c1a7",
   "metadata": {},
   "outputs": [
    {
     "data": {
      "text/plain": [
       "9"
      ]
     },
     "execution_count": 151,
     "metadata": {},
     "output_type": "execute_result"
    }
   ],
   "source": [
    "# EXTRACCIÓN DE ELEMENTO CON ÍNDICE 1 EN RENGLÓN Y ELEMENTO 2 EN FORMA DESCENDENTE\n",
    "\n",
    "x[1,-1]"
   ]
  },
  {
   "cell_type": "code",
   "execution_count": 153,
   "id": "a9ee539b-1e47-42cf-97d1-efcdc3b5bf2c",
   "metadata": {},
   "outputs": [
    {
     "data": {
      "text/plain": [
       "array([0, 1, 2, 3, 4])"
      ]
     },
     "execution_count": 153,
     "metadata": {},
     "output_type": "execute_result"
    }
   ],
   "source": [
    "# EXTRACCIÓN DE RENGLON COMPLETO AL NO ESPECIFICAR COLUMNA CON UN SEGUNDO DATO\n",
    "\n",
    "x[0]"
   ]
  },
  {
   "cell_type": "code",
   "execution_count": 216,
   "id": "0cf0fc08-e3c2-4588-be7a-f59f733e4b94",
   "metadata": {},
   "outputs": [
    {
     "data": {
      "text/plain": [
       "array([1, 3, 5])"
      ]
     },
     "execution_count": 216,
     "metadata": {},
     "output_type": "execute_result"
    }
   ],
   "source": [
    "# EXTRACCIÓN CON CORTES EN EL ARREGLO\n",
    "\n",
    "x=np.array([0,1,2,3,4,5,6,7,8,9])\n",
    "x[1:7:2]"
   ]
  },
  {
   "cell_type": "code",
   "execution_count": 232,
   "id": "6972c435-b803-4e82-9a84-2d5fd5399220",
   "metadata": {},
   "outputs": [
    {
     "data": {
      "text/plain": [
       "array([9, 8, 7, 6, 5, 4, 3, 2, 1, 0])"
      ]
     },
     "execution_count": 232,
     "metadata": {},
     "output_type": "execute_result"
    }
   ],
   "source": [
    "x[-1::-1]"
   ]
  },
  {
   "cell_type": "code",
   "execution_count": 167,
   "id": "f4ae2b7e-cc62-4573-b764-ad720a18e2ee",
   "metadata": {},
   "outputs": [
    {
     "data": {
      "text/plain": [
       "array([8, 9])"
      ]
     },
     "execution_count": 167,
     "metadata": {},
     "output_type": "execute_result"
    }
   ],
   "source": [
    "# EXTRACCIÓN CON CORTES EN EL ARREGLO DE ADELANTE HACIA ATRÁS\n",
    "\n",
    "x[-2:10]"
   ]
  },
  {
   "cell_type": "code",
   "execution_count": 171,
   "id": "43bf9a41-0b9f-4df3-8759-fc108768b54c",
   "metadata": {},
   "outputs": [
    {
     "data": {
      "text/plain": [
       "array([7, 6, 5, 4])"
      ]
     },
     "execution_count": 171,
     "metadata": {},
     "output_type": "execute_result"
    }
   ],
   "source": [
    "# CORTE DE ARREGLO DE ADELANTE HACIA ATRÁS, INICIANDO 3 POSICIONES A PARTIR DEL FINAL Y RETROCEDIENDO DE 1 EN UNO HASTA LLEGAR AL 4, YA QUE EL LÍMITE ES 3\n",
    "\n",
    "x[-3:3:-1]"
   ]
  },
  {
   "cell_type": "code",
   "execution_count": 177,
   "id": "1984f413-4e92-470a-b422-f60462c4935e",
   "metadata": {},
   "outputs": [
    {
     "data": {
      "text/plain": [
       "array([10,  9,  8,  7,  6,  5,  4,  3,  2])"
      ]
     },
     "execution_count": 177,
     "metadata": {},
     "output_type": "execute_result"
    }
   ],
   "source": [
    "# CREACIÓN DE ARREGLO EN FORMA DESCENDENTE DE 10 AL 1 ( SIN INCUIRLO) CON DECREMENTOS DE -1\n",
    "x= np.arange(10,1,-1)\n",
    "x"
   ]
  },
  {
   "cell_type": "code",
   "execution_count": 181,
   "id": "b243f849-bf37-4ce0-8948-c54a5ee770ed",
   "metadata": {},
   "outputs": [
    {
     "data": {
      "text/plain": [
       "array([7, 7, 9, 2])"
      ]
     },
     "execution_count": 181,
     "metadata": {},
     "output_type": "execute_result"
    }
   ],
   "source": [
    "# EXTRACCIÓN DE ELEMENTOS ESPECÍFICOS DE UN ARREGLO\n",
    "\n",
    "x[np.array([3,3,1,8])]"
   ]
  },
  {
   "cell_type": "code",
   "execution_count": 183,
   "id": "50815f5e-889c-4d39-9ee5-0f19b051da47",
   "metadata": {},
   "outputs": [
    {
     "data": {
      "text/plain": [
       "array([7, 7, 4, 2])"
      ]
     },
     "execution_count": 183,
     "metadata": {},
     "output_type": "execute_result"
    }
   ],
   "source": [
    "x[np.array([3,3,-3,8])]"
   ]
  },
  {
   "cell_type": "code",
   "execution_count": 187,
   "id": "331204f5-4898-441c-b368-9de2e1ac2827",
   "metadata": {},
   "outputs": [
    {
     "data": {
      "text/plain": [
       "array([[ 0,  1,  2,  3,  4,  5,  6],\n",
       "       [ 7,  8,  9, 10, 11, 12, 13],\n",
       "       [14, 15, 16, 17, 18, 19, 20],\n",
       "       [21, 22, 23, 24, 25, 26, 27],\n",
       "       [28, 29, 30, 31, 32, 33, 34]])"
      ]
     },
     "execution_count": 187,
     "metadata": {},
     "output_type": "execute_result"
    }
   ],
   "source": [
    "# EXTRACCIÓN BASADA EN PARES\n",
    "\n",
    "y=np.arange(35).reshape(5,7)\n",
    "y"
   ]
  },
  {
   "cell_type": "code",
   "execution_count": 191,
   "id": "fab59a7e-57ea-42b1-8084-187aad104ade",
   "metadata": {},
   "outputs": [
    {
     "data": {
      "text/plain": [
       "array([ 0, 15, 16])"
      ]
     },
     "execution_count": 191,
     "metadata": {},
     "output_type": "execute_result"
    }
   ],
   "source": [
    "# EXTRACCIÓN DE CORDENADAS (0,0), (2,1),(4,2)\n",
    "\n",
    "y[np.array([0,2,2]),np.array([0,1,2])]"
   ]
  },
  {
   "cell_type": "code",
   "execution_count": 193,
   "id": "8dbfa68e-dac0-4788-a9cf-33220067212f",
   "metadata": {},
   "outputs": [
    {
     "data": {
      "text/plain": [
       "array([1, 2, 3, 4, 5, 6])"
      ]
     },
     "execution_count": 193,
     "metadata": {},
     "output_type": "execute_result"
    }
   ],
   "source": [
    "# CONCATENACIÓN DE VECTORES\n",
    "\n",
    "arr=np.concatenate(([1,2,3],[4,5,6]))\n",
    "arr"
   ]
  },
  {
   "cell_type": "code",
   "execution_count": 195,
   "id": "f52cc64b-6922-4fe5-9320-e900fce8562c",
   "metadata": {},
   "outputs": [
    {
     "data": {
      "text/plain": [
       "array([[1, 2, 3],\n",
       "       [4, 5, 6]])"
      ]
     },
     "execution_count": 195,
     "metadata": {},
     "output_type": "execute_result"
    }
   ],
   "source": [
    "# APILADDO VERTICAL DE VECTORES\n",
    "\n",
    "np.stack(([1,2,3],[4,5,6]))"
   ]
  },
  {
   "cell_type": "code",
   "execution_count": 201,
   "id": "ff241c7b-4ae1-4b04-936e-4898a1c62006",
   "metadata": {},
   "outputs": [
    {
     "data": {
      "text/plain": [
       "array([[1, 2, 3],\n",
       "       [4, 5, 6],\n",
       "       [1, 1, 1],\n",
       "       [2, 2, 2]])"
      ]
     },
     "execution_count": 201,
     "metadata": {},
     "output_type": "execute_result"
    }
   ],
   "source": [
    "# CONCATENACIÓN DE MATRICES\n",
    "\n",
    "mat_1=np.array([[1,2,3],[4,5,6]])\n",
    "mat_2=np.array([[1,1,1],[2,2,2]])\n",
    "\n",
    "np.concatenate((mat_1,mat_2),axis=0)"
   ]
  },
  {
   "cell_type": "code",
   "execution_count": 203,
   "id": "c91d8340-0ab9-4925-b5be-da411e679507",
   "metadata": {},
   "outputs": [
    {
     "data": {
      "text/plain": [
       "array([[1, 2, 3, 1, 1, 1],\n",
       "       [4, 5, 6, 2, 2, 2]])"
      ]
     },
     "execution_count": 203,
     "metadata": {},
     "output_type": "execute_result"
    }
   ],
   "source": [
    "np.concatenate((mat_1,mat_2),axis=1)"
   ]
  },
  {
   "cell_type": "code",
   "execution_count": 205,
   "id": "14a1d58a-c9d2-497b-8eca-56371c2c7f32",
   "metadata": {},
   "outputs": [
    {
     "data": {
      "text/plain": [
       "array([1, 2, 3, 4, 5, 6, 1, 1, 1, 2, 2, 2])"
      ]
     },
     "execution_count": 205,
     "metadata": {},
     "output_type": "execute_result"
    }
   ],
   "source": [
    "np.concatenate((mat_1,mat_2),axis=None)"
   ]
  },
  {
   "cell_type": "code",
   "execution_count": null,
   "id": "eecf22fe-05f3-4ffa-a660-c2932117bdfa",
   "metadata": {},
   "outputs": [],
   "source": []
  }
 ],
 "metadata": {
  "kernelspec": {
   "display_name": "Python [conda env:Anaconda 4]",
   "language": "python",
   "name": "conda-env-Anaconda_4-py"
  },
  "language_info": {
   "codemirror_mode": {
    "name": "ipython",
    "version": 3
   },
   "file_extension": ".py",
   "mimetype": "text/x-python",
   "name": "python",
   "nbconvert_exporter": "python",
   "pygments_lexer": "ipython3",
   "version": "3.12.7"
  }
 },
 "nbformat": 4,
 "nbformat_minor": 5
}
