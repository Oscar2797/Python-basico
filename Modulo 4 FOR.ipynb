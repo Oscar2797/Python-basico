{
 "cells": [
  {
   "cell_type": "code",
   "execution_count": 1,
   "id": "9ac8b632-e2f2-4751-b100-8e948fa4119d",
   "metadata": {},
   "outputs": [
    {
     "name": "stdout",
     "output_type": "stream",
     "text": [
      "la suma es 48\n"
     ]
    }
   ],
   "source": [
    "numeros= [6,5,3,8,4,2,5,4,11]\n",
    "suma=0\n",
    "\n",
    "for valor in numeros:\n",
    "    suma= suma + valor\n",
    "print(\"la suma es\", suma)"
   ]
  },
  {
   "cell_type": "code",
   "execution_count": 2,
   "id": "c497013e-8eaa-4f1b-aad5-869cfd6de6b0",
   "metadata": {},
   "outputs": [
    {
     "name": "stdout",
     "output_type": "stream",
     "text": [
      "la suma es 48\n"
     ]
    }
   ],
   "source": [
    "numeros= [6,5,3,8,4,2,5,4,11]\n",
    "suma=0\n",
    "\n",
    "for valor in numeros:\n",
    "    suma= suma + valor\n",
    "print(f\"la suma es {suma}\")"
   ]
  },
  {
   "cell_type": "code",
   "execution_count": 4,
   "id": "7f9fcba7-0cce-4fb6-9ef6-9d52c267ff8f",
   "metadata": {},
   "outputs": [
    {
     "name": "stdout",
     "output_type": "stream",
     "text": [
      "manzana\n",
      "fresa\n",
      "cereza\n"
     ]
    }
   ],
   "source": [
    "frutas= [\"manzana\",\"fresa\",\"cereza\"]\n",
    "for x in frutas:\n",
    "    print(x)"
   ]
  },
  {
   "cell_type": "code",
   "execution_count": 5,
   "id": "33e9c969-403c-4b04-bb7d-71b32069d396",
   "metadata": {},
   "outputs": [
    {
     "name": "stdout",
     "output_type": "stream",
     "text": [
      "p\n",
      "l\n",
      "a\n",
      "t\n",
      "a\n",
      "n\n",
      "o\n"
     ]
    }
   ],
   "source": [
    "for Y in \"platano\":\n",
    "    print(Y)"
   ]
  },
  {
   "cell_type": "code",
   "execution_count": 8,
   "id": "874d0e4c-3b35-430a-b011-89ac22439302",
   "metadata": {},
   "outputs": [
    {
     "name": "stdout",
     "output_type": "stream",
     "text": [
      "5\n",
      "6\n",
      "7\n",
      "3\n",
      "4\n",
      "Total 25\n"
     ]
    }
   ],
   "source": [
    "total= 0\n",
    "for i in 5,6,7,3,4:\n",
    "    print(i)\n",
    "    total += i  # es lo mismo que \"total= total +1\"\n",
    "print(\"Total\", total)"
   ]
  },
  {
   "cell_type": "code",
   "execution_count": 10,
   "id": "f7c86167-a345-427c-892d-08b8518b73a2",
   "metadata": {},
   "outputs": [
    {
     "name": "stdout",
     "output_type": "stream",
     "text": [
      "0\n",
      "1\n",
      "2\n",
      "3\n",
      "4\n",
      "5\n"
     ]
    }
   ],
   "source": [
    "for x in range(6):\n",
    "    print(x)"
   ]
  },
  {
   "cell_type": "code",
   "execution_count": 11,
   "id": "f8d01bc3-c136-44d2-a870-595fe0911d5e",
   "metadata": {},
   "outputs": [
    {
     "name": "stdout",
     "output_type": "stream",
     "text": [
      "2\n",
      "5\n",
      "8\n"
     ]
    }
   ],
   "source": [
    "for x in range(2,10,3):\n",
    "    print(x)"
   ]
  },
  {
   "cell_type": "code",
   "execution_count": 12,
   "id": "21645f7e-76d7-4ec2-a5c1-32c908eedbac",
   "metadata": {},
   "outputs": [
    {
     "name": "stdout",
     "output_type": "stream",
     "text": [
      "Número más grande es: 398\n"
     ]
    }
   ],
   "source": [
    "Más_grande=-1\n",
    "for número in [9,74,398,45,0]:\n",
    "    if número > Más_grande:\n",
    "        Más_grande= número\n",
    "print( \"Número más grande es:\", Más_grande)"
   ]
  },
  {
   "cell_type": "code",
   "execution_count": 13,
   "id": "94d3fb65-8336-4e74-8642-abe6b6264bf7",
   "metadata": {},
   "outputs": [
    {
     "name": "stdout",
     "output_type": "stream",
     "text": [
      "manzana\n",
      "fresa\n"
     ]
    }
   ],
   "source": [
    "frutas= [\"manzana\",\"fresa\",\"cereza\"]\n",
    "for fruta in frutas:\n",
    "    print(fruta)\n",
    "    if fruta==\"fresa\":\n",
    "        break"
   ]
  },
  {
   "cell_type": "code",
   "execution_count": 15,
   "id": "291e5038-d37a-4a7b-bf9a-45570e970195",
   "metadata": {},
   "outputs": [
    {
     "name": "stdout",
     "output_type": "stream",
     "text": [
      "0\n",
      "1\n",
      "2\n",
      "3\n",
      "4\n",
      "5\n",
      "proceso terminado\n"
     ]
    }
   ],
   "source": [
    "for x in range(6):\n",
    "    if x ==8 :break\n",
    "    print(x)\n",
    "else:\n",
    "    print(\"proceso terminado\")"
   ]
  },
  {
   "cell_type": "code",
   "execution_count": 16,
   "id": "21c2480a-612b-4983-b024-1e9725b158da",
   "metadata": {},
   "outputs": [
    {
     "name": "stdout",
     "output_type": "stream",
     "text": [
      "0\n",
      "1\n",
      "2\n"
     ]
    }
   ],
   "source": [
    "for x in range(6):\n",
    "    if x ==3 :break\n",
    "    print(x)\n",
    "else:\n",
    "    print(\"proceso terminado\")"
   ]
  },
  {
   "cell_type": "code",
   "execution_count": 20,
   "id": "0dd89f07-ddae-4744-aac3-23fe9935c3f4",
   "metadata": {},
   "outputs": [
    {
     "name": "stdin",
     "output_type": "stream",
     "text": [
      "Nombre del estudiante Óscar\n"
     ]
    },
    {
     "name": "stdout",
     "output_type": "stream",
     "text": [
      "Calificación 100\n"
     ]
    }
   ],
   "source": [
    "nombre= input(\"Nombre del estudiante\")\n",
    "datos={\"José\":90,\"Óscar\":100,\"Miguel\":89}\n",
    "for estudiante in datos:\n",
    "    if estudiante==nombre:\n",
    "        print(\"Calificación\", datos [estudiante])\n",
    "        break\n",
    "else:\n",
    "    print(\"No se encontró estudiante\")"
   ]
  },
  {
   "cell_type": "code",
   "execution_count": 22,
   "id": "54dc2c01-4f24-4cfd-a232-02308769618c",
   "metadata": {},
   "outputs": [
    {
     "name": "stdout",
     "output_type": "stream",
     "text": [
      "manzana roja\n",
      "manzana grande\n",
      "manzana deliciosa\n",
      "fresa roja\n",
      "fresa grande\n",
      "fresa deliciosa\n",
      "cereza roja\n",
      "cereza grande\n",
      "cereza deliciosa\n"
     ]
    }
   ],
   "source": [
    "frutas= [\"manzana\",\"fresa\",\"cereza\"]\n",
    "adjetivos= [\"roja\", \"grande\", \"deliciosa\"]\n",
    "for fruta in frutas:\n",
    "    for tipo in adjetivos:\n",
    "        print(fruta, tipo)"
   ]
  },
  {
   "cell_type": "code",
   "execution_count": 24,
   "id": "6e7ae73e-f714-4ff4-8686-2cf2f26a6d46",
   "metadata": {},
   "outputs": [
    {
     "name": "stdout",
     "output_type": "stream",
     "text": [
      "40\n",
      "30\n",
      "20\n",
      "10\n"
     ]
    }
   ],
   "source": [
    "lista=[10,20,30,40]\n",
    "for número in reversed(lista):\n",
    "    print(número)"
   ]
  },
  {
   "cell_type": "code",
   "execution_count": 6,
   "id": "cbc5c759-ddf0-46f9-9793-b4ac01dcc7f1",
   "metadata": {},
   "outputs": [
    {
     "name": "stdin",
     "output_type": "stream",
     "text": [
      " número de tablas a calular:  5\n"
     ]
    },
    {
     "name": "stdout",
     "output_type": "stream",
     "text": [
      "tabla de multipliar del: 1\n",
      "1 2 3 4 5 6 7 8 9 10 \n",
      "\n",
      "tabla de multipliar del: 2\n",
      "2 4 6 8 10 12 14 16 18 20 \n",
      "\n",
      "tabla de multipliar del: 3\n",
      "3 6 9 12 15 18 21 24 27 30 \n",
      "\n",
      "tabla de multipliar del: 4\n",
      "4 8 12 16 20 24 28 32 36 40 \n",
      "\n",
      "tabla de multipliar del: 5\n",
      "5 10 15 20 25 30 35 40 45 50 \n",
      "\n"
     ]
    }
   ],
   "source": [
    "tablas= int(input(\" número de tablas a calular: \"))\n",
    "for i in range(1,tablas + 1):\n",
    "    print(\"tabla de multipliar del:\",i)\n",
    "    contador= 1\n",
    "    while contador <11:\n",
    "        print(i* contador, end=\" \")\n",
    "        contador +=1 \n",
    "    print(\"\\n\")"
   ]
  },
  {
   "cell_type": "code",
   "execution_count": null,
   "id": "d211725e-0391-48b9-85f0-7065b1937c82",
   "metadata": {},
   "outputs": [],
   "source": []
  }
 ],
 "metadata": {
  "kernelspec": {
   "display_name": "Python [conda env:Anaconda 4]",
   "language": "python",
   "name": "conda-env-Anaconda_4-py"
  },
  "language_info": {
   "codemirror_mode": {
    "name": "ipython",
    "version": 3
   },
   "file_extension": ".py",
   "mimetype": "text/x-python",
   "name": "python",
   "nbconvert_exporter": "python",
   "pygments_lexer": "ipython3",
   "version": "3.12.7"
  }
 },
 "nbformat": 4,
 "nbformat_minor": 5
}
