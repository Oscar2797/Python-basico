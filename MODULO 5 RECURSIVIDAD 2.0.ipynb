{
 "cells": [
  {
   "cell_type": "code",
   "execution_count": 1,
   "id": "eb99f6ec-fdde-4ba1-ac3a-75a25250b266",
   "metadata": {},
   "outputs": [
    {
     "name": "stdout",
     "output_type": "stream",
     "text": [
      "1\n",
      "2\n",
      "3\n"
     ]
    }
   ],
   "source": [
    "def imprimir (x):\n",
    "    if x>0:\n",
    "        imprimir(x-1)\n",
    "        print(x)\n",
    "imprimir (3)"
   ]
  },
  {
   "cell_type": "code",
   "execution_count": 9,
   "id": "8de8787e-f72c-45b2-9fdc-db6fd23f566e",
   "metadata": {},
   "outputs": [
    {
     "name": "stdout",
     "output_type": "stream",
     "text": [
      "25\n"
     ]
    }
   ],
   "source": [
    "# suma de una lista sin reursividad\n",
    "def suma(lista):\n",
    "    suma=0\n",
    "    for i in range(0,len(lista)):\n",
    "        suma= suma +lista[i]\n",
    "    return suma\n",
    "print(suma([6,3,4,2,10]))\n",
    "    "
   ]
  },
  {
   "cell_type": "code",
   "execution_count": 11,
   "id": "49aed253-a24c-4f6f-b570-f586b3ef1e33",
   "metadata": {},
   "outputs": [
    {
     "name": "stdout",
     "output_type": "stream",
     "text": [
      "25\n"
     ]
    }
   ],
   "source": [
    "# suma de una lista con recursividad\n",
    "\n",
    "def suma(lista):\n",
    "    if len(lista)==1:\n",
    "        return lista[0]\n",
    "    else:\n",
    "        return lista [0]+ suma (lista[1:])\n",
    "print (suma([6,3,4,2,10]))"
   ]
  },
  {
   "cell_type": "code",
   "execution_count": 15,
   "id": "97cfd2e1-ca41-4ea7-a036-8e70a0c94761",
   "metadata": {},
   "outputs": [
    {
     "name": "stdout",
     "output_type": "stream",
     "text": [
      "3628800\n"
     ]
    }
   ],
   "source": [
    "# recursividad factorial de un número\n",
    "def factorial(n):\n",
    "    if n==1:\n",
    "        return 1\n",
    "    else:\n",
    "        return n* factorial(n-1)\n",
    "print (factorial(10))"
   ]
  },
  {
   "cell_type": "code",
   "execution_count": null,
   "id": "cf5649d1-45d0-4988-8f74-b8fa9e2491dc",
   "metadata": {},
   "outputs": [],
   "source": []
  }
 ],
 "metadata": {
  "kernelspec": {
   "display_name": "Python [conda env:Anaconda 4]",
   "language": "python",
   "name": "conda-env-Anaconda_4-py"
  },
  "language_info": {
   "codemirror_mode": {
    "name": "ipython",
    "version": 3
   },
   "file_extension": ".py",
   "mimetype": "text/x-python",
   "name": "python",
   "nbconvert_exporter": "python",
   "pygments_lexer": "ipython3",
   "version": "3.12.7"
  }
 },
 "nbformat": 4,
 "nbformat_minor": 5
}
