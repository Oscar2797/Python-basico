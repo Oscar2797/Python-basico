{
 "cells": [
  {
   "cell_type": "code",
   "execution_count": 1,
   "id": "b292876f-3cbd-47a2-8562-207737786db6",
   "metadata": {},
   "outputs": [],
   "source": [
    "a=33\n",
    "b=200"
   ]
  },
  {
   "cell_type": "code",
   "execution_count": 2,
   "id": "575c45c7-9b29-499c-aa7b-341aa28bc5f1",
   "metadata": {},
   "outputs": [
    {
     "name": "stdout",
     "output_type": "stream",
     "text": [
      "b es mayor que a\n"
     ]
    }
   ],
   "source": [
    "if b > a:\n",
    "    print(\"b es mayor que a\")\n",
    "    "
   ]
  },
  {
   "cell_type": "code",
   "execution_count": 3,
   "id": "12d55e66-5839-4490-9edb-9cc39bfc4e46",
   "metadata": {},
   "outputs": [
    {
     "name": "stdout",
     "output_type": "stream",
     "text": [
      "1\n",
      "2\n",
      "3\n"
     ]
    }
   ],
   "source": [
    "if \"f\" in \"foo\":\n",
    "    print(1)\n",
    "    print(2)\n",
    "    print(3)"
   ]
  },
  {
   "cell_type": "code",
   "execution_count": 4,
   "id": "eccca44c-aed3-42ca-b905-fac708849105",
   "metadata": {},
   "outputs": [
    {
     "name": "stdout",
     "output_type": "stream",
     "text": [
      "1\n",
      "2\n",
      "3\n"
     ]
    }
   ],
   "source": [
    "if \"f\" in \"foo\":print(1); print(2); print(3) # Alternativa a ejecución en varios renglones"
   ]
  },
  {
   "cell_type": "code",
   "execution_count": 5,
   "id": "63c09511-4320-40a1-a3d1-0cf8bc2eed4a",
   "metadata": {},
   "outputs": [
    {
     "name": "stdout",
     "output_type": "stream",
     "text": [
      " ambas condiciones son verdaderas\n"
     ]
    }
   ],
   "source": [
    "a=200\n",
    "b=33\n",
    "c=500\n",
    "if a>b and a<c:\n",
    "    print(\" ambas condiciones son verdaderas\")"
   ]
  },
  {
   "cell_type": "code",
   "execution_count": 7,
   "id": "433d4941-652a-41eb-9340-b52145b16200",
   "metadata": {},
   "outputs": [
    {
     "name": "stdout",
     "output_type": "stream",
     "text": [
      " almenos un de las condiciones es verdadera\n"
     ]
    }
   ],
   "source": [
    "a=200\n",
    "b=33\n",
    "c=500\n",
    "if a<b or a<c:\n",
    "    print(\" almenos un de las condiciones es verdadera\")"
   ]
  },
  {
   "cell_type": "code",
   "execution_count": 8,
   "id": "b1c6bb5f-9eb3-4ad4-8752-4e7768cac63e",
   "metadata": {},
   "outputs": [
    {
     "name": "stdout",
     "output_type": "stream",
     "text": [
      "Pequeño\n",
      "fin\n"
     ]
    }
   ],
   "source": [
    "x=5\n",
    "if x< 10:\n",
    "    print(\"Pequeño\")\n",
    "if x> 20:\n",
    "    print(\"Grande\")\n",
    "print(\"fin\")"
   ]
  },
  {
   "cell_type": "code",
   "execution_count": 9,
   "id": "a1d5b520-d4a3-4c91-9da5-3becbbf39868",
   "metadata": {},
   "outputs": [
    {
     "name": "stdout",
     "output_type": "stream",
     "text": [
      "Igual a 5\n",
      "Mayor a 4\n",
      "Mayor o igual a 5\n",
      "Menor a 6\n",
      "Menor o igual 5\n",
      "Diferente a 6\n",
      "fin\n"
     ]
    }
   ],
   "source": [
    "x=5\n",
    "if x== 5:\n",
    "    print(\"Igual a 5\")\n",
    "if x> 4:\n",
    "    print(\"Mayor a 4\")\n",
    "if x>= 5:\n",
    "    print(\"Mayor o igual a 5\")\n",
    "if x< 6:print(\"Menor a 6\")\n",
    "if x<= 5:print(\"Menor o igual 5\")\n",
    "if x!= 6:print(\"Diferente a 6\")\n",
    "print(\"fin\")"
   ]
  },
  {
   "cell_type": "code",
   "execution_count": 10,
   "id": "cca60a67-7f21-4778-a2a0-dc0395300cce",
   "metadata": {},
   "outputs": [
    {
     "name": "stdin",
     "output_type": "stream",
     "text": [
      "Dame un número: 1.1\n"
     ]
    },
    {
     "name": "stdout",
     "output_type": "stream",
     "text": [
      "Mayor a 1\n",
      "menor a 100\n",
      "Proceso terminado\n"
     ]
    }
   ],
   "source": [
    "x=input(\"Dame un número:\")\n",
    "if float (x) > 1:\n",
    "    print(\"Mayor a 1\")\n",
    "    if float(x) <100:\n",
    "        print(\"menor a 100\")\n",
    "print(\"Proceso terminado\")\n"
   ]
  },
  {
   "cell_type": "markdown",
   "id": "f1679486-5f7f-45c7-8b17-136ad4175d33",
   "metadata": {},
   "source": [
    "# IF ELSE ELIF"
   ]
  },
  {
   "cell_type": "code",
   "execution_count": 13,
   "id": "e92afcfa-b39a-48e6-a805-996be88fde21",
   "metadata": {},
   "outputs": [
    {
     "name": "stdout",
     "output_type": "stream",
     "text": [
      "Más pequeño\n",
      "fin\n"
     ]
    }
   ],
   "source": [
    "x=1\n",
    "if x>2:\n",
    "    print(\"Más grande\")\n",
    "else:\n",
    "    print(\"Más pequeño\")\n",
    "print(\"fin\")"
   ]
  },
  {
   "cell_type": "code",
   "execution_count": 14,
   "id": "78d9b651-1913-4d7b-9dcc-22450da93ac1",
   "metadata": {},
   "outputs": [
    {
     "name": "stdin",
     "output_type": "stream",
     "text": [
      "dame un número 5\n"
     ]
    },
    {
     "name": "stdout",
     "output_type": "stream",
     "text": [
      "x= 5.0\n",
      "mediano\n",
      "\n",
      "Fin\n"
     ]
    }
   ],
   "source": [
    "x=float (input(\"dame un número\"))\n",
    "if x<2:\n",
    "    print(\"x =\",x)\n",
    "    print(\"Pequeño\")\n",
    "elif x<10:\n",
    "    print(\"x=\",x)\n",
    "    print(\"mediano\")\n",
    "else:\n",
    "    print(\"x=\",x)\n",
    "    print(\"grande\")\n",
    "print(\"\\nFin\")"
   ]
  },
  {
   "cell_type": "code",
   "execution_count": 17,
   "id": "5d746c28-6073-4146-a377-fe00e4f82c79",
   "metadata": {},
   "outputs": [
    {
     "name": "stdin",
     "output_type": "stream",
     "text": [
      "dame un número 30\n"
     ]
    },
    {
     "name": "stdout",
     "output_type": "stream",
     "text": [
      "x = 30.0\n",
      "grande\n",
      "\n",
      "Fin\n"
     ]
    }
   ],
   "source": [
    "x=float (input(\"dame un número\"))\n",
    "print(\"x =\",x)\n",
    "if x<2:\n",
    "    print(\"Pequeño\")\n",
    "elif x<10:\n",
    "    print(\"mediano\")\n",
    "else:\n",
    "    print(\"grande\")\n",
    "print(\"\\nFin\")"
   ]
  },
  {
   "cell_type": "code",
   "execution_count": 18,
   "id": "4cadf8b0-58b0-458e-9d58-b04b059cd541",
   "metadata": {},
   "outputs": [
    {
     "name": "stdin",
     "output_type": "stream",
     "text": [
      "dame un número 100\n"
     ]
    },
    {
     "name": "stdout",
     "output_type": "stream",
     "text": [
      "x = 100.0\n",
      "gigante\n",
      "\n",
      "Fin\n"
     ]
    }
   ],
   "source": [
    "x=float (input(\"dame un número\"))\n",
    "print(\"x =\",x)\n",
    "if x<2:\n",
    "    print(\"Pequeño\")\n",
    "elif x<10:\n",
    "    print(\"mediano\")\n",
    "elif x<20:\n",
    "    print(\"grande\")\n",
    "else:\n",
    "    print(\"gigante\")\n",
    "print(\"\\nFin\")\n"
   ]
  },
  {
   "cell_type": "markdown",
   "id": "070c3a95-c26b-4d92-8450-52df29fb2a74",
   "metadata": {},
   "source": [
    "# Casos especiales"
   ]
  },
  {
   "cell_type": "code",
   "execution_count": 19,
   "id": "19d2c906-19e9-4dad-9b75-72a1159ccc9f",
   "metadata": {},
   "outputs": [
    {
     "name": "stdout",
     "output_type": "stream",
     "text": [
      "B\n"
     ]
    }
   ],
   "source": [
    "a=3\n",
    "b=5\n",
    "print(\"A\") if a> b else print (\"B\")"
   ]
  },
  {
   "cell_type": "code",
   "execution_count": 21,
   "id": "54e882ec-0beb-4750-8fd4-721d632ed4b5",
   "metadata": {},
   "outputs": [
    {
     "name": "stdout",
     "output_type": "stream",
     "text": [
      "B es mayor\n"
     ]
    }
   ],
   "source": [
    "a=3\n",
    "b=5\n",
    "print(\"A es mayor\") if a> b else print(\"=\") if a == b else print(\"B es mayor\")"
   ]
  },
  {
   "cell_type": "code",
   "execution_count": 23,
   "id": "96bea3c0-6908-4ea9-9e22-008f6ac330b2",
   "metadata": {},
   "outputs": [],
   "source": [
    "a=33\n",
    "b=200\n",
    "if b> a:\n",
    "    pass"
   ]
  },
  {
   "cell_type": "markdown",
   "id": "37935b23-1bc5-4b51-bcd7-45a763ff1f73",
   "metadata": {},
   "source": [
    "# TRY Y EXCEPT"
   ]
  },
  {
   "cell_type": "code",
   "execution_count": 7,
   "id": "82c3d60f-80ee-4246-96f7-d94117284d87",
   "metadata": {},
   "outputs": [
    {
     "name": "stdin",
     "output_type": "stream",
     "text": [
      "dame un entero positivo 1\n"
     ]
    },
    {
     "name": "stdout",
     "output_type": "stream",
     "text": [
      "Valor correto\n"
     ]
    }
   ],
   "source": [
    "cadena= input(\"dame un entero positivo\")\n",
    "try:\n",
    "    entero= int(cadena)\n",
    "except:\n",
    "    entero= -1\n",
    "if entero>0:\n",
    "    print(\"Valor correto\")\n",
    "else:\n",
    "    print(\"Valor incorrecto\")"
   ]
  },
  {
   "cell_type": "markdown",
   "id": "e9abdb27-a2f4-4f3d-9356-a58f5e77d024",
   "metadata": {},
   "source": [
    "# Usos avanzados de IF"
   ]
  },
  {
   "cell_type": "code",
   "execution_count": 26,
   "id": "067ce674-3502-4cff-9718-fe410821cc72",
   "metadata": {},
   "outputs": [
    {
     "name": "stdout",
     "output_type": "stream",
     "text": [
      "vamos a la playa\n"
     ]
    }
   ],
   "source": [
    "lluvia= False\n",
    "print(\"vamos a la\", \"playa\" if not lluvia else \"biblioteca\")"
   ]
  },
  {
   "cell_type": "code",
   "execution_count": 29,
   "id": "f458c1d3-a22b-46a4-84ed-348dda9fe9cd",
   "metadata": {},
   "outputs": [
    {
     "data": {
      "text/plain": [
       "42"
      ]
     },
     "execution_count": 29,
     "metadata": {},
     "output_type": "execute_result"
    }
   ],
   "source": [
    "x=y=40\n",
    "z= x+1 if x>y else y+2\n",
    "z"
   ]
  },
  {
   "cell_type": "code",
   "execution_count": 32,
   "id": "c6e78c5a-d3a2-44b2-aad2-a094fd68ef6b",
   "metadata": {},
   "outputs": [
    {
     "data": {
      "text/plain": [
       "'snd'"
      ]
     },
     "execution_count": 32,
     "metadata": {},
     "output_type": "execute_result"
    }
   ],
   "source": [
    "x=3\n",
    "s=(\"ABC\" if x==5 else\n",
    "   \"ABs\" if x==1 else\n",
    "   \"ABa\" if x==2 else\n",
    "   \"ABv\" if x==4 else\n",
    "   \"snd\")\n",
    "s"
   ]
  },
  {
   "cell_type": "code",
   "execution_count": 34,
   "id": "4e270f22-ceeb-4911-855e-4bdae0af5926",
   "metadata": {},
   "outputs": [
    {
     "data": {
      "text/plain": [
       "'si'"
      ]
     },
     "execution_count": 34,
     "metadata": {},
     "output_type": "execute_result"
    }
   ],
   "source": [
    "\"si\" if \"ndf\" in (\"bds\", \"ndf\", \"nss\") else \"No\""
   ]
  },
  {
   "cell_type": "code",
   "execution_count": null,
   "id": "ac4dcf86-6bb8-410b-b048-7a5ac5d42997",
   "metadata": {},
   "outputs": [],
   "source": []
  }
 ],
 "metadata": {
  "kernelspec": {
   "display_name": "Python [conda env:Orange]",
   "language": "python",
   "name": "conda-env-Orange-py"
  },
  "language_info": {
   "codemirror_mode": {
    "name": "ipython",
    "version": 3
   },
   "file_extension": ".py",
   "mimetype": "text/x-python",
   "name": "python",
   "nbconvert_exporter": "python",
   "pygments_lexer": "ipython3",
   "version": "3.11.8"
  }
 },
 "nbformat": 4,
 "nbformat_minor": 5
}
