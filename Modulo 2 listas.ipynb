{
 "cells": [
  {
   "cell_type": "code",
   "execution_count": 2,
   "id": "382f52a5-fb43-46ba-b446-326f271cfcd7",
   "metadata": {},
   "outputs": [
    {
     "data": {
      "text/plain": [
       "['Pedro', 'Juan', 'Óscar']"
      ]
     },
     "execution_count": 2,
     "metadata": {},
     "output_type": "execute_result"
    }
   ],
   "source": [
    "amigos=[\"Pedro\",\"Juan\",\"Óscar\"]\n",
    "amigos"
   ]
  },
  {
   "cell_type": "code",
   "execution_count": 5,
   "id": "9d506fa2-8db8-405e-9f0b-268709ac1d23",
   "metadata": {},
   "outputs": [
    {
     "data": {
      "text/plain": [
       "['rojo', 15, [2, 3]]"
      ]
     },
     "execution_count": 5,
     "metadata": {},
     "output_type": "execute_result"
    }
   ],
   "source": [
    "elementos= [\"rojo\",15,[2,3]]\n",
    "elementos"
   ]
  },
  {
   "cell_type": "code",
   "execution_count": 7,
   "id": "07fe7c1c-d728-4dd0-901d-82c918c6416a",
   "metadata": {},
   "outputs": [
    {
     "name": "stdout",
     "output_type": "stream",
     "text": [
      "Juan\n"
     ]
    }
   ],
   "source": [
    "print(amigos[1])"
   ]
  },
  {
   "cell_type": "code",
   "execution_count": 8,
   "id": "c018214b-62b7-4b9f-9780-7160cf23aa60",
   "metadata": {},
   "outputs": [
    {
     "data": {
      "text/plain": [
       "['Pedro', 'Juan', 'Karla']"
      ]
     },
     "execution_count": 8,
     "metadata": {},
     "output_type": "execute_result"
    }
   ],
   "source": [
    "amigos_cercanos= amigos\n",
    "amigos_cercanos[2]= \"Karla\"\n",
    "amigos_cercanos"
   ]
  },
  {
   "cell_type": "code",
   "execution_count": 9,
   "id": "fe67c4a4-2a5e-4776-a6de-26c4b9803b6b",
   "metadata": {},
   "outputs": [
    {
     "data": {
      "text/plain": [
       "3"
      ]
     },
     "execution_count": 9,
     "metadata": {},
     "output_type": "execute_result"
    }
   ],
   "source": [
    "longitud= len(amigos)\n",
    "longitud"
   ]
  },
  {
   "cell_type": "code",
   "execution_count": 10,
   "id": "c77b5ab3-4601-4511-9481-9deb61c20bb6",
   "metadata": {},
   "outputs": [
    {
     "data": {
      "text/plain": [
       "[1, 2, 3, 4, 5, 6]"
      ]
     },
     "execution_count": 10,
     "metadata": {},
     "output_type": "execute_result"
    }
   ],
   "source": [
    "a=[1,2,3]\n",
    "b=[4,5,6]\n",
    "c=a+b\n",
    "c"
   ]
  },
  {
   "cell_type": "code",
   "execution_count": 12,
   "id": "41f773b3-0d82-434c-aedb-575bab9e2976",
   "metadata": {},
   "outputs": [
    {
     "data": {
      "text/plain": [
       "[2, 3]"
      ]
     },
     "execution_count": 12,
     "metadata": {},
     "output_type": "execute_result"
    }
   ],
   "source": [
    "c[1:3]"
   ]
  },
  {
   "cell_type": "code",
   "execution_count": 13,
   "id": "2b859937-3a37-4c07-a981-0decb1ce67f8",
   "metadata": {},
   "outputs": [
    {
     "data": {
      "text/plain": [
       "list"
      ]
     },
     "execution_count": 13,
     "metadata": {},
     "output_type": "execute_result"
    }
   ],
   "source": [
    "type(c)"
   ]
  },
  {
   "cell_type": "code",
   "execution_count": 14,
   "id": "4d3a800a-378d-4a87-9eb1-0f01ed1d2ff5",
   "metadata": {},
   "outputs": [
    {
     "data": {
      "text/plain": [
       "[]"
      ]
     },
     "execution_count": 14,
     "metadata": {},
     "output_type": "execute_result"
    }
   ],
   "source": [
    "listado= list()\n",
    "listado"
   ]
  },
  {
   "cell_type": "code",
   "execution_count": 20,
   "id": "b1ade345-b844-4219-89ed-e133b419aa9d",
   "metadata": {},
   "outputs": [
    {
     "data": {
      "text/plain": [
       "['libro', 'libro', 100, 'libro', 100, 'nada', 100, 'libro', 100, 'libro', 100]"
      ]
     },
     "execution_count": 20,
     "metadata": {},
     "output_type": "execute_result"
    }
   ],
   "source": [
    "listado.append(\"libro\")\n",
    "listado.append(100)\n",
    "listado"
   ]
  },
  {
   "cell_type": "code",
   "execution_count": 22,
   "id": "63372948-b012-4a95-b442-a3277ff5f60c",
   "metadata": {},
   "outputs": [
    {
     "data": {
      "text/plain": [
       "[]"
      ]
     },
     "execution_count": 22,
     "metadata": {},
     "output_type": "execute_result"
    }
   ],
   "source": [
    "listado2= list()\n",
    "listado2"
   ]
  },
  {
   "cell_type": "code",
   "execution_count": 23,
   "id": "83126fb1-7713-4736-9233-6b873536e47d",
   "metadata": {},
   "outputs": [
    {
     "data": {
      "text/plain": [
       "['libro', 'libro', 100, 'libro', 100, 'nada', 100, 'libro', 100, 'libro', 100]"
      ]
     },
     "execution_count": 23,
     "metadata": {},
     "output_type": "execute_result"
    }
   ],
   "source": [
    "listado2.append(\"libro\")\n",
    "listado2.append(100)\n",
    "listado"
   ]
  },
  {
   "cell_type": "code",
   "execution_count": 24,
   "id": "28f4bdff-dd8d-4717-b747-543c63a0f527",
   "metadata": {},
   "outputs": [
    {
     "data": {
      "text/plain": [
       "['Juan', 'Karla', 'Pedro']"
      ]
     },
     "execution_count": 24,
     "metadata": {},
     "output_type": "execute_result"
    }
   ],
   "source": [
    "amigos.sort()\n",
    "amigos"
   ]
  },
  {
   "cell_type": "code",
   "execution_count": 25,
   "id": "626b13b7-1f9b-443c-b314-348f175f700a",
   "metadata": {},
   "outputs": [
    {
     "name": "stdout",
     "output_type": "stream",
     "text": [
      "6\n"
     ]
    }
   ],
   "source": [
    "print(max(c))"
   ]
  },
  {
   "cell_type": "code",
   "execution_count": 26,
   "id": "df768c5f-5968-4537-b4c4-629e3237b7ee",
   "metadata": {},
   "outputs": [
    {
     "name": "stdout",
     "output_type": "stream",
     "text": [
      "21\n"
     ]
    }
   ],
   "source": [
    "print(sum(c))"
   ]
  },
  {
   "cell_type": "code",
   "execution_count": 28,
   "id": "4b0b2125-7426-487f-8718-3748cb804637",
   "metadata": {},
   "outputs": [
    {
     "data": {
      "text/plain": [
       "['Pedro', 'Sofía', 'Ana']"
      ]
     },
     "execution_count": 28,
     "metadata": {},
     "output_type": "execute_result"
    }
   ],
   "source": [
    "amigos=\"Pedro Sofía Ana\"\n",
    "lista_amigos= amigos.split()\n",
    "lista_amigos"
   ]
  },
  {
   "cell_type": "code",
   "execution_count": null,
   "id": "931f22bb-2b2e-4393-972b-60f99e725ddf",
   "metadata": {},
   "outputs": [],
   "source": []
  }
 ],
 "metadata": {
  "kernelspec": {
   "display_name": "Python [conda env:Orange]",
   "language": "python",
   "name": "conda-env-Orange-py"
  },
  "language_info": {
   "codemirror_mode": {
    "name": "ipython",
    "version": 3
   },
   "file_extension": ".py",
   "mimetype": "text/x-python",
   "name": "python",
   "nbconvert_exporter": "python",
   "pygments_lexer": "ipython3",
   "version": "3.11.8"
  }
 },
 "nbformat": 4,
 "nbformat_minor": 5
}
