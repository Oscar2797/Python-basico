{
 "cells": [
  {
   "cell_type": "code",
   "execution_count": 1,
   "id": "345dfa07-087f-4cbb-93cf-4d223ba26df1",
   "metadata": {},
   "outputs": [
    {
     "name": "stdout",
     "output_type": "stream",
     "text": [
      "4\n",
      "3\n",
      "2\n",
      "1\n",
      "fin\n"
     ]
    }
   ],
   "source": [
    "n=4\n",
    "while n>0:\n",
    "    print(n)\n",
    "    n=n-1\n",
    "print(\"fin\")"
   ]
  },
  {
   "cell_type": "code",
   "execution_count": null,
   "id": "15432780-29a8-41a1-b912-75f5f7adb66e",
   "metadata": {},
   "outputs": [],
   "source": [
    "n=5  # bucle infinito\n",
    "while n>1:\n",
    "    print(\"uno\")\n",
    "    print(\"dos\")\n",
    "print(\"fin\")"
   ]
  },
  {
   "cell_type": "code",
   "execution_count": 13,
   "id": "ebc3f0ca-b3c3-4a37-9404-e07f4b5c144d",
   "metadata": {},
   "outputs": [
    {
     "name": "stdin",
     "output_type": "stream",
     "text": [
      "Escribe un texto fin\n"
     ]
    },
    {
     "name": "stdout",
     "output_type": "stream",
     "text": [
      "proceso terminado\n"
     ]
    }
   ],
   "source": [
    "while True:\n",
    "    linea= input (\"Escribe un texto\")\n",
    "    if linea== \"fin\":\n",
    "        break\n",
    "    print(linea)\n",
    "print(\"proceso terminado\")"
   ]
  },
  {
   "cell_type": "code",
   "execution_count": 6,
   "id": "037e563b-af88-40d9-90f1-7276c49dbfaa",
   "metadata": {},
   "outputs": [
    {
     "name": "stdin",
     "output_type": "stream",
     "text": [
      "Escribe un texto sdn\n"
     ]
    },
    {
     "name": "stdout",
     "output_type": "stream",
     "text": [
      "sdn\n"
     ]
    },
    {
     "name": "stdin",
     "output_type": "stream",
     "text": [
      "Escribe un texto sdkjn\n"
     ]
    },
    {
     "name": "stdout",
     "output_type": "stream",
     "text": [
      "sdkjn\n"
     ]
    },
    {
     "name": "stdin",
     "output_type": "stream",
     "text": [
      "Escribe un texto # sdkjvndslkn\n",
      "Escribe un texto fin\n"
     ]
    },
    {
     "name": "stdout",
     "output_type": "stream",
     "text": [
      "fin\n"
     ]
    },
    {
     "name": "stdin",
     "output_type": "stream",
     "text": [
      "Escribe un texto fi\n"
     ]
    },
    {
     "name": "stdout",
     "output_type": "stream",
     "text": [
      "fi\n"
     ]
    },
    {
     "name": "stdin",
     "output_type": "stream",
     "text": [
      "Escribe un texto fin\n"
     ]
    },
    {
     "name": "stdout",
     "output_type": "stream",
     "text": [
      "fin\n"
     ]
    },
    {
     "name": "stdin",
     "output_type": "stream",
     "text": [
      "Escribe un texto Fin\n"
     ]
    },
    {
     "name": "stdout",
     "output_type": "stream",
     "text": [
      "Proceso terminado\n"
     ]
    }
   ],
   "source": [
    "while True:\n",
    "    linea= input (\"Escribe un texto\")\n",
    "    if linea[0] ==\"#\":\n",
    "        continue\n",
    "    if linea== \"Fin\":\n",
    "        break\n",
    "    print(linea)\n",
    "print(\"Proceso terminado\")"
   ]
  },
  {
   "cell_type": "code",
   "execution_count": 7,
   "id": "22aa6a38-1f46-4a35-a2c0-f928f8980dec",
   "metadata": {},
   "outputs": [
    {
     "name": "stdin",
     "output_type": "stream",
     "text": [
      " Captura el valor de n: 6\n"
     ]
    },
    {
     "name": "stdout",
     "output_type": "stream",
     "text": [
      " La suma es 21\n"
     ]
    }
   ],
   "source": [
    "n= int(input(\" Captura el valor de n:\"))\n",
    "suma= 0\n",
    "i= 1\n",
    "while i <=n:\n",
    "    suma += i\n",
    "    i += 1\n",
    "print(\" La suma es\", suma)"
   ]
  },
  {
   "cell_type": "code",
   "execution_count": 10,
   "id": "ca667e6a-ac02-4f53-ba78-aa1a9ca2afc6",
   "metadata": {},
   "outputs": [
    {
     "name": "stdout",
     "output_type": "stream",
     "text": [
      "c\n",
      "b\n",
      "a\n"
     ]
    },
    {
     "data": {
      "text/plain": [
       "[]"
      ]
     },
     "execution_count": 10,
     "metadata": {},
     "output_type": "execute_result"
    }
   ],
   "source": [
    "lista=[\"a\", \"b\", \"c\"]\n",
    "while lista:\n",
    "    print( lista.pop (-1))\n",
    "lista"
   ]
  },
  {
   "cell_type": "code",
   "execution_count": 11,
   "id": "12facb55-cfb2-45e4-a601-e48a8674445e",
   "metadata": {},
   "outputs": [
    {
     "name": "stdout",
     "output_type": "stream",
     "text": [
      " el número de pares es 4\n",
      " el número de impares es 5\n"
     ]
    }
   ],
   "source": [
    "numeros= (1,2,3,4,5,6,7,8,9)\n",
    "valores= len(numeros)\n",
    "impares= 0\n",
    "pares= 0\n",
    "contador=1\n",
    "while contador <= valores:\n",
    "    if numeros [contador-1]%2==0:\n",
    "        pares +=1\n",
    "    else:\n",
    "        impares +=1\n",
    "    contador+=1\n",
    "print(\" el número de pares es\", pares)\n",
    "print(\" el número de impares es\", impares)"
   ]
  },
  {
   "cell_type": "code",
   "execution_count": 12,
   "id": "ba8d1375-062b-4949-aec5-fbff20b35947",
   "metadata": {},
   "outputs": [
    {
     "name": "stdout",
     "output_type": "stream",
     "text": [
      "0\n",
      "1\n",
      "1\n",
      "2\n",
      "3\n",
      "5\n",
      "8\n",
      "13\n",
      "21\n",
      "34\n"
     ]
    }
   ],
   "source": [
    "x,y = 0,1\n",
    "print(x)\n",
    "print(y)\n",
    "while x+y <50:\n",
    "    x= x+y\n",
    "    print(x)\n",
    "    y= x+y\n",
    "    print(y)"
   ]
  },
  {
   "cell_type": "code",
   "execution_count": null,
   "id": "f9b21358-6e9a-419b-ba90-c1bfcd70fb8b",
   "metadata": {},
   "outputs": [],
   "source": []
  }
 ],
 "metadata": {
  "kernelspec": {
   "display_name": "Python [conda env:Anaconda 4]",
   "language": "python",
   "name": "conda-env-Anaconda_4-py"
  },
  "language_info": {
   "codemirror_mode": {
    "name": "ipython",
    "version": 3
   },
   "file_extension": ".py",
   "mimetype": "text/x-python",
   "name": "python",
   "nbconvert_exporter": "python",
   "pygments_lexer": "ipython3",
   "version": "3.12.7"
  }
 },
 "nbformat": 4,
 "nbformat_minor": 5
}
